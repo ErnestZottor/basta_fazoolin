{
 "cells": [
  {
   "cell_type": "code",
   "execution_count": 4,
   "id": "222ae83f",
   "metadata": {},
   "outputs": [
    {
     "name": "stdout",
     "output_type": "stream",
     "text": [
      "brunch menu available from 11 to 16\n",
      "early-bird menu available from 15 to 18\n"
     ]
    }
   ],
   "source": [
    "class Menu:\n",
    "  def __init__(self, name, items, start_time, end_time):\n",
    "    self.name = name\n",
    "    self.items = items\n",
    "    self.start_time = start_time\n",
    "    self.end_time =end_time\n",
    "  def __repr__(self):\n",
    "    return '{name} menu available from {start_time} to {end_time}'.format(name=self.name, start_time=self.start_time, end_time=self.end_time)\n",
    "    \n",
    "  def calculate_bill(self, purchased_items):\n",
    "    total_bill =0\n",
    "    for item_name in self.items:\n",
    "      if item_name in purchased_items:\n",
    "         total_bill+= self.items[item_name]\n",
    "    return total_bill\n",
    "\n",
    "class Franchise:\n",
    "  def __init__(self, address, menus):\n",
    "    self.address = address\n",
    "    self.menus = menus\n",
    "  def __repr__(self):\n",
    "    return 'Located at: '+ self.address\n",
    "\n",
    "  def available_menus(self, time):\n",
    "    return [menu for menu in self.menus if time >= menu.start_time and time <= menu.end_time]\n",
    "class Business:\n",
    "  def __init__(self, name, franchises): \n",
    "    self.name = name\n",
    "    self.franchises= franchises\n",
    "\n",
    "\n",
    "brunch = Menu('brunch',{'pancakes': 7.50, 'waffles': 9.00, 'burger':  11.00, 'home fries': 4.50, 'coffee': 1.50,    'espresso': 3.00, 'tea': 1.00, 'mimosa': 10.50, 'orange juice': 3.50 }, 11, 16)\n",
    "\n",
    "early_bird = Menu('early-bird',{'salumeria plate': 8.00,'salad and breadsticks (serves 2, no refills)': 14.00, 'pizza with quattro formaggi': 9.00, 'duck ragu': 17.50, 'mushroom ravioli (vegan)': 13.50, 'coffee': 1.50, 'espresso': 3.00}, 15,18 )\n",
    "\n",
    "dinner = Menu('dinner', {'crostini with eggplant caponata': 13.00, 'ceaser salad': 16.00, 'pizza with quattro formaggi': 11.00, 'duck ragu': 19.50, 'mushroom ravioli (vegan)': 13.50, 'coffee': 2.00, 'espresso': 3.00,},17, 23)\n",
    "\n",
    "kids = Menu('kids', {'chicken nuggets': 6.50, 'fusilli with wild mushrooms': 12.00, 'apple juice': 3.00}, 11, 21 )\n",
    "print(brunch)\n",
    "bill_price_brunch =brunch.calculate_bill(['pancakess', 'home fries', 'coffee'])\n",
    "bill_price_eb=early_bird.calculate_bill(['salumeria plate', 'mushroom ravioli (vegan)'])\n",
    "\n",
    "flagship_store = Franchise(\"1232 West End Road\",[kids,dinner, brunch, early_bird])\n",
    "new_installment = Franchise(\"12 East Mulberry Street\",[kids,dinner, brunch, early_bird])\n",
    "\n",
    "basta_fazoolin = Business(\"Basta Fazoolin' with my Heart\", [flagship_store, new_installment])\n",
    "arepas_menu = Menu('Arepas',{'arepa pabellon': 7.00, 'pernil arepa': 8.50, 'guayanes arepa': 8.00, 'jamon arepa': 7.50}, 10, 20)\n",
    "arepas_place = Franchise(\"189 Fitzgerald Avenue\",[arepas_menu])\n",
    "\n",
    "arepa = Business(\"Take a' Arepa\", [arepas_place])\n",
    "# print(flagship_store.available_menus(10))\n",
    "print(early_bird)\n"
   ]
  },
  {
   "cell_type": "code",
   "execution_count": null,
   "id": "ddab56d2",
   "metadata": {},
   "outputs": [],
   "source": []
  }
 ],
 "metadata": {
  "kernelspec": {
   "display_name": "Python 3",
   "language": "python",
   "name": "python3"
  },
  "language_info": {
   "codemirror_mode": {
    "name": "ipython",
    "version": 3
   },
   "file_extension": ".py",
   "mimetype": "text/x-python",
   "name": "python",
   "nbconvert_exporter": "python",
   "pygments_lexer": "ipython3",
   "version": "3.8.8"
  }
 },
 "nbformat": 4,
 "nbformat_minor": 5
}
